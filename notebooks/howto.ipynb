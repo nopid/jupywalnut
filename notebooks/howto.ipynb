{
 "cells": [
  {
   "cell_type": "markdown",
   "id": "f896fc21",
   "metadata": {
    "slideshow": {
     "slide_type": "slide"
    }
   },
   "source": [
    "# Jupyter + Walnut HOWTO\n",
    "\n",
    "#### Nicolas Ollinger, LIFO, U. Orléans\n"
   ]
  },
  {
   "cell_type": "markdown",
   "id": "48f6647e",
   "metadata": {
    "slideshow": {
     "slide_type": "subslide"
    }
   },
   "source": [
    "## What am I looking at?\n",
    "\n",
    "The text you are reading right now has been composed using Markdown notation inside a cell of a [Jupyter Notebook](https://jupyter.org/).\n",
    "\n",
    "You might be seeing it in quite a few different settings:\n",
    " - fullscreen as a kind of slide based presentation with editable content;\n",
    " - as an interactive notebook consisting of a sequence of editable cells;\n",
    " - in a degraded mode as a read-only document.\n",
    " \n",
    "This is a very short introduction to using `jupywalnut`."
   ]
  },
  {
   "cell_type": "markdown",
   "id": "e0fa3746",
   "metadata": {
    "slideshow": {
     "slide_type": "subslide"
    }
   },
   "source": [
    "## jupywalnut = Jupyter + Walnut\n",
    "\n",
    "The `jupywalnut` tool simply combines two existing tools to simplify the handling and the presentation of Walnut proofs: keep all your formulaes together with auxiliary files, automata drawings and notes.\n",
    "\n",
    " - [Jupyter](https://jupyter.org/) provides the editable notebook\n",
    " \n",
    " - [Walnut](https://cs.uwaterloo.ca/~shallit/walnut.html) provides the automated prover environment for automatic words."
   ]
  },
  {
   "cell_type": "markdown",
   "id": "cb7fca30",
   "metadata": {
    "slideshow": {
     "slide_type": "subslide"
    }
   },
   "source": [
    "## Walnut\n",
    "\n",
    "The Walnut version used here is simply Walnut 5 compiled from https://github.com/firetto/Walnut and packaged into a jar archive.\n",
    "\n",
    "Walnut is licensed under the GNU GENERAL PUBLIC LICENSE Version 3."
   ]
  },
  {
   "cell_type": "markdown",
   "id": "2293e65b",
   "metadata": {
    "slideshow": {
     "slide_type": "subslide"
    }
   },
   "source": [
    "## Jupyter notebook\n",
    "\n",
    "The Jupyter notebook deployed here is not the most recent version.\n",
    "\n",
    "We stay with version 6.x in order to be able to use [RISE](https://github.com/damianavila/RISE) for presentation mode."
   ]
  },
  {
   "cell_type": "markdown",
   "id": "d9242044",
   "metadata": {
    "slideshow": {
     "slide_type": "slide"
    }
   },
   "source": [
    "# 1. Getting ready to work"
   ]
  },
  {
   "cell_type": "markdown",
   "id": "2f9688b1",
   "metadata": {},
   "source": [
    "## Setting things up\n",
    "\n",
    "If you are reading this, you might already be ready to work with `jupywalnut`.\n",
    "\n",
    "This section is devoted to enumerate all the possible ways to setup your environment."
   ]
  },
  {
   "cell_type": "markdown",
   "id": "a3deb27e",
   "metadata": {
    "slideshow": {
     "slide_type": "subslide"
    }
   },
   "source": [
    "## The easiest way: remotely, in the cloud\n",
    "\n",
    "If you have a recent enough web brower and a good internet connexion, you can simply use the [My Binder](https://mybinder.org) community service to run it on a private instance in the cloud by opening the link\n",
    "\n",
    "https://mybinder.org/v2/gh/nopid/jupywalnut/main\n",
    "\n",
    "**DO NOT FORGET TO SAVE YOUR WORK** by downloading your notebook before closing your browser window. Otherwise, you might loose your notebook content."
   ]
  },
  {
   "cell_type": "markdown",
   "id": "04ee0b22",
   "metadata": {
    "slideshow": {
     "slide_type": "subslide"
    }
   },
   "source": [
    "## Medium difficulty: using docker\n",
    "\n",
    "If _you know how to use [Docker](https://www.docker.com)_, we already built a [Docker Hub](https://hub.docker.com) container image for you, ready to be user on both AMD64 and ARM64 architecure.\n",
    "\n",
    "The image name is [nopid/walnut](https://hub.docker.com/r/nopid/walnut)\n",
    "\n",
    "A typical use under Linux or MacOS would be with the command:\n",
    "```\n",
    "$ docker run --rm -it -v $(PWD)/notebooks:/home/jovyan/notebooks -p 8888:8888 nopid/walnut\n",
    "```\n",
    "\n",
    "**Benefits:** local instance (no network needed) + notebooks automatically saved into `notebooks/`"
   ]
  },
  {
   "cell_type": "markdown",
   "id": "dcf2b545",
   "metadata": {
    "slideshow": {
     "slide_type": "subslide"
    }
   },
   "source": [
    "## The hard way: clone + build + run\n",
    "\n",
    "If you prefer to control the whole process, please clone the git repository from https://github.com/nopid/jupywalnut and build the Docker image yourself.\n",
    "\n",
    "You might also use [repo2docker](https://github.com/jupyterhub/repo2docker) if you prefer, it works equally well."
   ]
  },
  {
   "cell_type": "markdown",
   "id": "fd2a9c5d",
   "metadata": {
    "slideshow": {
     "slide_type": "subslide"
    }
   },
   "source": [
    "## How to prepare Walnut itself?\n",
    "\n",
    "Inside the `jupywalnut` repository, Walnut is provided through two files:\n",
    " - `walnut.jar` is the JAR file containing the compiled classes with the following `META-INF/MANIFEST.MF`\n",
    " ```\n",
    "Manifest-Version: 1.0\n",
    "Main-Class: Main.Prover\n",
    " ```\n",
    " - `auxfiles.tar.gz` contains all the files to populate the Walnut execution directory."
   ]
  },
  {
   "cell_type": "markdown",
   "id": "91567dc3",
   "metadata": {
    "slideshow": {
     "slide_type": "slide"
    }
   },
   "source": [
    "# 2. Using Walnut inside a notebook"
   ]
  },
  {
   "cell_type": "markdown",
   "id": "5ea8d191",
   "metadata": {
    "slideshow": {
     "slide_type": "subslide"
    }
   },
   "source": [
    "## Ready? Go!\n",
    "\n",
    "By now, you should have an instance of `jupywalnut` running in your web browser.\n",
    "\n",
    "To start a new notebook, use the file navigator or use the `File>New Notebook>Walnut` menu sequence!"
   ]
  },
  {
   "cell_type": "markdown",
   "id": "c3474caf",
   "metadata": {
    "slideshow": {
     "slide_type": "subslide"
    }
   },
   "source": [
    "## Basic usage and trust issues\n",
    "\n",
    "A complete tour of Jupyter notebooks is beyond the scope of this introduction but feel free to use the `Help` menu.\n",
    "\n",
    "Sometimes you might be under the impression that `jupywalnut` behaves strangly. Please check in the upper right corner that the notebook is `trusted`. If it is not the case, click the `untrusted` word to fix the problem!"
   ]
  },
  {
   "cell_type": "markdown",
   "id": "2b7bde6e",
   "metadata": {
    "slideshow": {
     "slide_type": "subslide"
    }
   },
   "source": [
    "## Notebook 101\n",
    "\n",
    "A notebook is a sequence of editable (just click) cells of different types:\n",
    " - Markdown cells contains rich text (including some $\\LaTeX$ syntax support for math formulas);\n",
    " - Code cells contains Walnut commands."
   ]
  },
  {
   "cell_type": "markdown",
   "id": "a1b239f2",
   "metadata": {
    "slideshow": {
     "slide_type": "subslide"
    }
   },
   "source": [
    "## Code cells\n",
    "\n",
    "When a code cell is executed (by pressing the menu button or with the keyboard sequence `shift+Return`), all its content is sent to a Walnut kernel.\n",
    "\n",
    "The kernel is really a Walnut interpreter running in the background. Do not forget to end your Walnut commands with the appropriate terminator (`;`, `:` or `::`).\n",
    "\n",
    "You can control the kernel through the `Kernel` menu."
   ]
  },
  {
   "cell_type": "markdown",
   "id": "518b6f7b",
   "metadata": {
    "slideshow": {
     "slide_type": "subslide"
    }
   },
   "source": [
    "## Demonstration"
   ]
  },
  {
   "cell_type": "code",
   "execution_count": 3,
   "id": "5c1c39e0",
   "metadata": {},
   "outputs": [
    {
     "name": "stdout",
     "output_type": "stream",
     "text": [
      "n=(2*m):2 states - 2ms\n",
      " (E m n=(2*m)):2 states - 0ms\n",
      "Total computation time: 2ms.\n",
      "\n",
      "n=((2*m)+1):2 states - 1ms\n",
      " (E m n=((2*m)+1)):2 states - 0ms\n",
      "Total computation time: 5ms.\n",
      "\n",
      "(even(n))|odd(n))):1 states - 0ms\n",
      " (A n (even(n))|odd(n)))):1 states - 0ms\n",
      "Total computation time: 2ms.\n",
      "____\n",
      "TRUE\n",
      "\n"
     ]
    }
   ],
   "source": [
    "def even \"Em n=2*m\":\n",
    "def odd \"Em n=2*m+1\":\n",
    "eval even_or_odd \"An $even(n) | $odd(n)\":"
   ]
  },
  {
   "cell_type": "markdown",
   "id": "e10898b8",
   "metadata": {
    "slideshow": {
     "slide_type": "subslide"
    }
   },
   "source": [
    "## Special command `%showme`\n",
    "\n",
    "You can visualize the [GraphViz](https://graphviz.org/) files produced by Walnut directly into your notebook by using the special `%showme` command in a dedicated cell, as in the following example:"
   ]
  },
  {
   "cell_type": "code",
   "execution_count": 4,
   "id": "bdab0343",
   "metadata": {},
   "outputs": [
    {
     "data": {
      "text/html": [
       "<?xml version=\"1.0\" encoding=\"UTF-8\" standalone=\"no\"?>\n",
       "<!DOCTYPE svg PUBLIC \"-//W3C//DTD SVG 1.1//EN\"\n",
       " \"http://www.w3.org/Graphics/SVG/1.1/DTD/svg11.dtd\">\n",
       "<!-- Generated by graphviz version 2.43.0 (0)\n",
       " -->\n",
       "<!-- Title: G Pages: 1 -->\n",
       "<svg width=\"175pt\" height=\"108pt\"\n",
       " viewBox=\"0.00 0.00 174.60 108.00\" xmlns=\"http://www.w3.org/2000/svg\" xmlns:xlink=\"http://www.w3.org/1999/xlink\">\n",
       "<g id=\"graph0\" class=\"graph\" transform=\"scale(1 1) rotate(0) translate(4 104)\">\n",
       "<title>G</title>\n",
       "<polygon fill=\"white\" stroke=\"transparent\" points=\"-4,4 -4,-104 170.6,-104 170.6,4 -4,4\"/>\n",
       "<text text-anchor=\"middle\" x=\"83.3\" y=\"-7.8\" font-family=\"Times,serif\" font-size=\"14.00\">(n): Em n=2*m+1</text>\n",
       "<!-- 0 -->\n",
       "<g id=\"node1\" class=\"node\">\n",
       "<title>0</title>\n",
       "<ellipse fill=\"none\" stroke=\"black\" cx=\"58.6\" cy=\"-45\" rx=\"18\" ry=\"18\"/>\n",
       "<text text-anchor=\"middle\" x=\"58.6\" y=\"-41.9\" font-family=\"Times,serif\" font-size=\"12.00\">0</text>\n",
       "</g>\n",
       "<!-- 0&#45;&gt;0 -->\n",
       "<g id=\"edge2\" class=\"edge\">\n",
       "<title>0&#45;&gt;0</title>\n",
       "<path fill=\"none\" stroke=\"black\" d=\"M52.22,-62.04C50.92,-71.86 53.05,-81 58.6,-81 62.07,-81 64.2,-77.43 65,-72.35\"/>\n",
       "<polygon fill=\"black\" stroke=\"black\" points=\"68.5,-72.03 64.98,-62.04 61.5,-72.04 68.5,-72.03\"/>\n",
       "<text text-anchor=\"middle\" x=\"58.6\" y=\"-84.8\" font-family=\"Times,serif\" font-size=\"14.00\">0</text>\n",
       "</g>\n",
       "<!-- 1 -->\n",
       "<g id=\"node2\" class=\"node\">\n",
       "<title>1</title>\n",
       "<ellipse fill=\"none\" stroke=\"black\" cx=\"144.6\" cy=\"-45\" rx=\"18\" ry=\"18\"/>\n",
       "<ellipse fill=\"none\" stroke=\"black\" cx=\"144.6\" cy=\"-45\" rx=\"22\" ry=\"22\"/>\n",
       "<text text-anchor=\"middle\" x=\"144.6\" y=\"-41.9\" font-family=\"Times,serif\" font-size=\"12.00\">1</text>\n",
       "</g>\n",
       "<!-- 0&#45;&gt;1 -->\n",
       "<g id=\"edge3\" class=\"edge\">\n",
       "<title>0&#45;&gt;1</title>\n",
       "<path fill=\"none\" stroke=\"black\" d=\"M77,-45C87.19,-45 100.35,-45 112.28,-45\"/>\n",
       "<polygon fill=\"black\" stroke=\"black\" points=\"112.34,-48.5 122.34,-45 112.34,-41.5 112.34,-48.5\"/>\n",
       "<text text-anchor=\"middle\" x=\"99.6\" y=\"-48.8\" font-family=\"Times,serif\" font-size=\"14.00\">1</text>\n",
       "</g>\n",
       "<!-- 1&#45;&gt;0 -->\n",
       "<g id=\"edge4\" class=\"edge\">\n",
       "<title>1&#45;&gt;0</title>\n",
       "<path fill=\"none\" stroke=\"black\" d=\"M126.25,-32.58C117.02,-27.45 105.39,-23.26 94.6,-26 90.64,-27.01 86.65,-28.56 82.84,-30.35\"/>\n",
       "<polygon fill=\"black\" stroke=\"black\" points=\"81.08,-27.33 73.91,-35.13 84.38,-33.5 81.08,-27.33\"/>\n",
       "<text text-anchor=\"middle\" x=\"99.6\" y=\"-29.8\" font-family=\"Times,serif\" font-size=\"14.00\">0</text>\n",
       "</g>\n",
       "<!-- 1&#45;&gt;1 -->\n",
       "<g id=\"edge5\" class=\"edge\">\n",
       "<title>1&#45;&gt;1</title>\n",
       "<path fill=\"none\" stroke=\"black\" d=\"M136.59,-65.58C135.49,-75.84 138.15,-85 144.6,-85 148.73,-85 151.31,-81.24 152.34,-75.84\"/>\n",
       "<polygon fill=\"black\" stroke=\"black\" points=\"155.84,-75.67 152.61,-65.58 148.85,-75.49 155.84,-75.67\"/>\n",
       "<text text-anchor=\"middle\" x=\"144.6\" y=\"-88.8\" font-family=\"Times,serif\" font-size=\"14.00\">1</text>\n",
       "</g>\n",
       "<!-- qi -->\n",
       "<g id=\"node3\" class=\"node\">\n",
       "<title>qi</title>\n",
       "<ellipse fill=\"black\" stroke=\"black\" cx=\"1.8\" cy=\"-45\" rx=\"1.8\" ry=\"1.8\"/>\n",
       "</g>\n",
       "<!-- qi&#45;&gt;0 -->\n",
       "<g id=\"edge1\" class=\"edge\">\n",
       "<title>qi&#45;&gt;0</title>\n",
       "<path fill=\"none\" stroke=\"black\" d=\"M3.75,-45C7.11,-45 18.87,-45 30.55,-45\"/>\n",
       "<polygon fill=\"black\" stroke=\"black\" points=\"30.58,-48.5 40.58,-45 30.58,-41.5 30.58,-48.5\"/>\n",
       "</g>\n",
       "<!-- \\n -->\n",
       "<g id=\"node4\" class=\"node\">\n",
       "<title>\\n</title>\n",
       "<ellipse fill=\"black\" stroke=\"black\" cx=\"1.8\" cy=\"-67\" rx=\"1.8\" ry=\"1.8\"/>\n",
       "</g>\n",
       "</g>\n",
       "</svg>\n"
      ],
      "text/plain": [
       "<IPython.core.display.HTML object>"
      ]
     },
     "metadata": {},
     "output_type": "display_data"
    }
   ],
   "source": [
    "%showme odd"
   ]
  },
  {
   "cell_type": "markdown",
   "id": "744fe17e",
   "metadata": {
    "slideshow": {
     "slide_type": "subslide"
    }
   },
   "source": [
    "## Special command `%%file`\n",
    "\n",
    "You can produce auxiliary files directly from your notebook by using the special `%%file` command in a dedicated cell, as in the following example:"
   ]
  },
  {
   "cell_type": "code",
   "execution_count": 7,
   "id": "901a0f9b",
   "metadata": {},
   "outputs": [
    {
     "name": "stdout",
     "output_type": "stream",
     "text": [
      "Created file '/home/jovyan/Automata Library/blop.txt'.\n"
     ]
    }
   ],
   "source": [
    "%%file ../Automata Library/blop.txt\n",
    "{0,1} {0,1}\n",
    "0 0\n",
    "0 0 -> 0\n",
    "1 0 -> 1\n",
    "1 0\n",
    "0 1 -> 2\n",
    "2 1\n",
    "0 0 -> 2"
   ]
  },
  {
   "cell_type": "code",
   "execution_count": 8,
   "id": "45c0c354",
   "metadata": {},
   "outputs": [
    {
     "name": "stdout",
     "output_type": "stream",
     "text": [
      "x=(2*y):2 states - 1ms\r\n",
      " (blop(x,y))=>x=(2*y)):1 states - 1ms\r\n",
      "  (A x , y (blop(x,y))=>x=(2*y))):1 states - 0ms\r\n",
      "Total computation time: 3ms.\r\n",
      "____\r\n",
      "TRUE\r\n",
      "\r\n"
     ]
    }
   ],
   "source": [
    "eval twice \"Ax,y $blop(x,y) => x=2*y\":"
   ]
  },
  {
   "cell_type": "markdown",
   "id": "ab26361c",
   "metadata": {
    "slideshow": {
     "slide_type": "subslide"
    }
   },
   "source": [
    "## Troubles\n",
    "\n",
    "The way the kernel handles the interpreter is not very robust.\n",
    "\n",
    "It might for example happen that the kernel desynchronizes because terminator have been missing. This should be fixed by running a cell twice.\n",
    "\n",
    "When this doesn't work, just shutdown and restart the kernel from the `Kernel` menu!"
   ]
  },
  {
   "cell_type": "markdown",
   "id": "01315d3c",
   "metadata": {
    "slideshow": {
     "slide_type": "slide"
    }
   },
   "source": [
    "# 3. Presentation mode with RISE"
   ]
  },
  {
   "cell_type": "markdown",
   "id": "6d0b434b",
   "metadata": {
    "slideshow": {
     "slide_type": "subslide"
    }
   },
   "source": [
    "## Slides with RISE\n",
    "\n",
    "In order to use the notebook in presentation mode, you should learn to use [RISE](https://github.com/damianavila/RISE). It will provide you with editable slides and a very nice chalkboard mode."
   ]
  },
  {
   "cell_type": "markdown",
   "id": "233a060c",
   "metadata": {
    "slideshow": {
     "slide_type": "subslide"
    }
   },
   "source": [
    "## Activate RISE\n",
    "\n",
    "To activate RISE in a notebook, you might want to go to the menu `Edit>Edit Notebook Metadata` and insert the following there:\n",
    "```\n",
    "  \"rise\": {\n",
    "    \"autolaunch\": true,\n",
    "    \"chalkboard\": {\n",
    "      \"readOnly\": false\n",
    "    },\n",
    "    \"enable_chalkboard\": true,\n",
    "    \"reveal_shortcuts\": {\n",
    "      \"chalkboard\": {\n",
    "        \"colorNext\": \"s\",\n",
    "        \"colorPrev\": \"q\",\n",
    "        \"toggleChalkboard\": \"a\",\n",
    "        \"toggleNotesCanvas\": \"z\"\n",
    "      }\n",
    "    },\n",
    "```"
   ]
  },
  {
   "cell_type": "markdown",
   "id": "3b71b683",
   "metadata": {
    "slideshow": {
     "slide_type": "subslide"
    }
   },
   "source": [
    "## Edit you cell diaporama type\n",
    "\n",
    "Using the `View>Cell Toolbar` menu, you can activate `Diaporama` cell type selection on each cell.\n",
    "\n",
    "This will permit to decide how cells compose your presentation slideshow."
   ]
  },
  {
   "cell_type": "markdown",
   "id": "47cf5eb4",
   "metadata": {
    "slideshow": {
     "slide_type": "slide"
    }
   },
   "source": [
    "# 4. Preparing your notebook for exportation"
   ]
  },
  {
   "cell_type": "markdown",
   "id": "e185b2c3",
   "metadata": {
    "slideshow": {
     "slide_type": "subslide"
    }
   },
   "source": [
    "## Somewhere in a git repository far away...\n",
    "\n",
    "The best way to share a presentation or an exercise sheet prepared with `jupywalnut` is to create a dedicated git repository.\n",
    "\n",
    "There you should put your notebooks and other files inside a `notebooks/` directory and prepare a proper `Dockerfile` as follows:\n",
    "```\n",
    "FROM nopid/walnut\n",
    "COPY . ${HOME}\n",
    "USER root\n",
    "RUN jupyter trust notebooks/*.ipynb\n",
    "RUN chown -R ${NB_UID} ${HOME}\n",
    "USER ${NB_USER}\n",
    "``` \n",
    "\n",
    "You are ready to use it with [My Binder](https://mybinder.org) so that your users directly enter your presentation from the URL you provide!"
   ]
  },
  {
   "cell_type": "markdown",
   "id": "c2223741",
   "metadata": {
    "slideshow": {
     "slide_type": "subslide"
    }
   },
   "source": [
    "## Demonstration\n",
    "\n",
    "An example is provided in the repository https://github.com/nopid/walpub\n",
    "\n",
    "By giving the following URL to the end users (please use an URL shortener on it) you provide them with a remote presentation:\n",
    "https://mybinder.org/v2/gh/nopid/walpub/HEAD?labpath=..%2F..%2Fnotebooks%2Fnotebooks%2Ftalk.ipynb"
   ]
  }
 ],
 "metadata": {
  "celltoolbar": "Diaporama",
  "kernelspec": {
   "display_name": "Walnut",
   "language": "",
   "name": "data"
  },
  "language_info": {
   "file_extension": ".walnut",
   "language": "walnut",
   "mimetype": "text/x-walnut",
   "name": "walnutkernel"
  },
  "rise": {
   "autolaunch": true,
   "chalkboard": {
    "readOnly": false
   },
   "enable_chalkboard": true,
   "reveal_shortcuts": {
    "chalkboard": {
     "colorNext": "s",
     "colorPrev": "q",
     "toggleChalkboard": "a",
     "toggleNotesCanvas": "z"
    }
   },
   "scroll": true,
   "theme": "white"
  }
 },
 "nbformat": 4,
 "nbformat_minor": 5
}
